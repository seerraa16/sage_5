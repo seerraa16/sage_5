{
 "cells": [
  {
   "cell_type": "code",
   "execution_count": 6,
   "metadata": {},
   "outputs": [
    {
     "data": {
      "text/plain": [
       "1/5"
      ]
     },
     "execution_count": 6,
     "metadata": {},
     "output_type": "execute_result"
    }
   ],
   "source": [
    "#Calcula el límite indicado con el número 1 en la lista adjunta.\n",
    "n = var(\"n\")\n",
    "f(n) = (n^3+2*n-1)/(5*n^3+n*2-2*n+1)\n",
    "lim(f(n), n=oo)"
   ]
  },
  {
   "cell_type": "code",
   "execution_count": 7,
   "metadata": {},
   "outputs": [
    {
     "data": {
      "text/plain": [
       "-5/2"
      ]
     },
     "execution_count": 7,
     "metadata": {},
     "output_type": "execute_result"
    }
   ],
   "source": [
    "#Calcula el límite indicado con el número 2 en la lista adjunta.\n",
    "n = var(\"n\")\n",
    "f(n) = sqrt(n^2-n)-(n^2+4*n)^(1/2)\n",
    "lim(f(n), n=oo)\n"
   ]
  },
  {
   "cell_type": "code",
   "execution_count": 8,
   "metadata": {},
   "outputs": [
    {
     "data": {
      "text/plain": [
       "0"
      ]
     },
     "execution_count": 8,
     "metadata": {},
     "output_type": "execute_result"
    }
   ],
   "source": [
    "#Calcula el límite indicado con el número 3 en la lista adjunta.\n",
    "n = var(\"n\")\n",
    "f(n) = ln(1+n+sqrt(n))-ln(n)\n",
    "lim(f(n), n=oo)"
   ]
  },
  {
   "cell_type": "code",
   "execution_count": 32,
   "metadata": {},
   "outputs": [
    {
     "ename": "SyntaxError",
     "evalue": "invalid syntax (<ipython-input-32-b07dfaff3d4d>, line 5)",
     "output_type": "error",
     "traceback": [
      "\u001b[0;36m  File \u001b[0;32m\"<ipython-input-32-b07dfaff3d4d>\"\u001b[0;36m, line \u001b[0;32m5\u001b[0m\n\u001b[0;31m    lim(f(n), n=oo)\u001b[0m\n\u001b[0m      ^\u001b[0m\n\u001b[0;31mSyntaxError\u001b[0m\u001b[0;31m:\u001b[0m invalid syntax\n"
     ]
    }
   ],
   "source": [
    "#Calcula el límite indicado con el número 4 en la lista adjunta.\n",
    "n = var(\"n\")\n",
    "a(n) = n^3\n",
    "f(n) = (sum(a(n), n, 0, oo)/n^4\n",
    "lim(f(n), n=oo)"
   ]
  },
  {
   "cell_type": "code",
   "execution_count": 11,
   "metadata": {},
   "outputs": [
    {
     "data": {
      "text/plain": [
       "e^(-3)"
      ]
     },
     "execution_count": 11,
     "metadata": {},
     "output_type": "execute_result"
    }
   ],
   "source": [
    "#Calcula el límite indicado con el número 5 en la lista adjunta.\n",
    "n = var(\"n\")\n",
    "f(n) = ((n^3-2*n)/(n^3+3*(n^2)-2*n-1))^n\n",
    "lim(f(n), n = oo)"
   ]
  },
  {
   "cell_type": "code",
   "execution_count": 14,
   "metadata": {},
   "outputs": [
    {
     "data": {
      "text/plain": [
       "5/4"
      ]
     },
     "execution_count": 14,
     "metadata": {},
     "output_type": "execute_result"
    }
   ],
   "source": [
    "#Calcula la suma de la serie indicada en el número 6 de la lista adjunta.\n",
    "n = var(\"n\")\n",
    "f(n) = (n+2)/(n^3-n)\n",
    "sum(f(n), n, 2, oo)"
   ]
  },
  {
   "cell_type": "code",
   "execution_count": 30,
   "metadata": {},
   "outputs": [
    {
     "data": {
      "text/plain": [
       "1/4"
      ]
     },
     "execution_count": 30,
     "metadata": {},
     "output_type": "execute_result"
    }
   ],
   "source": [
    "#Calcula la suma de la serie indicada en el número 7 de la lista adjunta.\n",
    "n = var(\"n\")\n",
    "f(n) =(1)/(n^3-n)\n",
    "sum(f(n), n, 2, oo)"
   ]
  },
  {
   "cell_type": "code",
   "execution_count": 28,
   "metadata": {},
   "outputs": [
    {
     "data": {
      "text/plain": [
       "(-1)^n*sum(x^n, x, 0, +Infinity)"
      ]
     },
     "execution_count": 28,
     "metadata": {},
     "output_type": "execute_result"
    }
   ],
   "source": [
    "#Calcula la suma de la serie indicada en el número 8 de la lista adjunta.\n",
    "n, x= var(\"n, x\")\n",
    "f(n) = (-1)^n*x^n\n",
    "sum(f(n), x, 0, oo)"
   ]
  },
  {
   "cell_type": "code",
   "execution_count": 29,
   "metadata": {},
   "outputs": [
    {
     "data": {
      "text/plain": [
       "4^n*(-1)^n*sum(x^(2*n), x, 0, +Infinity)"
      ]
     },
     "execution_count": 29,
     "metadata": {},
     "output_type": "execute_result"
    }
   ],
   "source": [
    "#Calcula la suma de la serie indicada en el número 9 de la lista adjunta.\n",
    "n, x = var(\"n, x\")\n",
    "f(n) = (-1)^n*4^n*x^(2*n)\n",
    "sum(f(n),x, 0, oo)"
   ]
  },
  {
   "cell_type": "code",
   "execution_count": 27,
   "metadata": {},
   "outputs": [
    {
     "data": {
      "text/plain": [
       "1"
      ]
     },
     "execution_count": 27,
     "metadata": {},
     "output_type": "execute_result"
    }
   ],
   "source": [
    "#Realiza el cálculo indicado en el número 10 de la lista adjunta.\n",
    "x = var('x')\n",
    "f(x) = 1/(1+(x^2))\n",
    "taylor(f(x), x, 0)"
   ]
  },
  {
   "cell_type": "code",
   "execution_count": 31,
   "metadata": {},
   "outputs": [
    {
     "data": {
      "text/plain": [
       "0"
      ]
     },
     "execution_count": 31,
     "metadata": {},
     "output_type": "execute_result"
    }
   ],
   "source": [
    "#Realiza el cálculo indicado en el número 11 de la lista adjunta.\n",
    "x = var('x')\n",
    "g(x) = x*cos(x)\n",
    "taylor(g(x),x, 0)"
   ]
  },
  {
   "cell_type": "code",
   "execution_count": null,
   "metadata": {},
   "outputs": [],
   "source": []
  }
 ],
 "metadata": {
  "kernelspec": {
   "display_name": "SageMath 9.3",
   "language": "sage",
   "name": "sagemath"
  },
  "language_info": {
   "codemirror_mode": {
    "name": "ipython",
    "version": 3
   },
   "file_extension": ".py",
   "mimetype": "text/x-python",
   "name": "python",
   "nbconvert_exporter": "python",
   "pygments_lexer": "ipython3",
   "version": "3.7.10"
  }
 },
 "nbformat": 4,
 "nbformat_minor": 4
}
